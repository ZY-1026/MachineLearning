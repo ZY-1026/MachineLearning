{
 "cells": [
  {
   "cell_type": "code",
   "execution_count": 1,
   "metadata": {},
   "outputs": [],
   "source": [
    "import numpy as np\n",
    "import matplotlib.pyplot as plt"
   ]
  },
  {
   "cell_type": "markdown",
   "metadata": {},
   "source": [
    "# 最值归一化 Normalization"
   ]
  },
  {
   "cell_type": "code",
   "execution_count": 2,
   "metadata": {},
   "outputs": [],
   "source": [
    "x = np.random.randint(0, 100, size=100)"
   ]
  },
  {
   "cell_type": "code",
   "execution_count": 3,
   "metadata": {},
   "outputs": [
    {
     "data": {
      "text/plain": [
       "array([86, 12, 83, 45, 96, 44, 61, 15,  7, 80, 10, 17, 72, 75, 72, 27, 91,\n",
       "       89, 27, 21, 30, 79, 79, 45, 18, 86, 10, 49,  4, 64,  8, 39, 88, 25,\n",
       "       76, 92, 70,  1, 35, 63, 28, 41, 28, 62, 27, 84, 32, 83, 97, 72, 47,\n",
       "       44, 18, 32, 26,  5, 23, 51, 82, 30, 84, 58, 20, 71, 49, 89, 76, 32,\n",
       "       57, 36, 98, 39, 14, 74, 26, 94, 32, 91, 75, 86,  8, 55, 78, 66, 50,\n",
       "       53,  4, 29,  0,  2,  3, 78, 46, 41, 61, 20, 33, 46, 44, 17])"
      ]
     },
     "execution_count": 3,
     "metadata": {},
     "output_type": "execute_result"
    }
   ],
   "source": [
    "x"
   ]
  },
  {
   "cell_type": "code",
   "execution_count": 5,
   "metadata": {},
   "outputs": [
    {
     "data": {
      "text/plain": [
       "array([0.87755102, 0.12244898, 0.84693878, 0.45918367, 0.97959184,\n",
       "       0.44897959, 0.62244898, 0.15306122, 0.07142857, 0.81632653,\n",
       "       0.10204082, 0.17346939, 0.73469388, 0.76530612, 0.73469388,\n",
       "       0.2755102 , 0.92857143, 0.90816327, 0.2755102 , 0.21428571,\n",
       "       0.30612245, 0.80612245, 0.80612245, 0.45918367, 0.18367347,\n",
       "       0.87755102, 0.10204082, 0.5       , 0.04081633, 0.65306122,\n",
       "       0.08163265, 0.39795918, 0.89795918, 0.25510204, 0.7755102 ,\n",
       "       0.93877551, 0.71428571, 0.01020408, 0.35714286, 0.64285714,\n",
       "       0.28571429, 0.41836735, 0.28571429, 0.63265306, 0.2755102 ,\n",
       "       0.85714286, 0.32653061, 0.84693878, 0.98979592, 0.73469388,\n",
       "       0.47959184, 0.44897959, 0.18367347, 0.32653061, 0.26530612,\n",
       "       0.05102041, 0.23469388, 0.52040816, 0.83673469, 0.30612245,\n",
       "       0.85714286, 0.59183673, 0.20408163, 0.7244898 , 0.5       ,\n",
       "       0.90816327, 0.7755102 , 0.32653061, 0.58163265, 0.36734694,\n",
       "       1.        , 0.39795918, 0.14285714, 0.75510204, 0.26530612,\n",
       "       0.95918367, 0.32653061, 0.92857143, 0.76530612, 0.87755102,\n",
       "       0.08163265, 0.56122449, 0.79591837, 0.67346939, 0.51020408,\n",
       "       0.54081633, 0.04081633, 0.29591837, 0.        , 0.02040816,\n",
       "       0.03061224, 0.79591837, 0.46938776, 0.41836735, 0.62244898,\n",
       "       0.20408163, 0.33673469, 0.46938776, 0.44897959, 0.17346939])"
      ]
     },
     "execution_count": 5,
     "metadata": {},
     "output_type": "execute_result"
    }
   ],
   "source": [
    "(x - np.min(x)) / (np.max(x) - np.min(x))"
   ]
  },
  {
   "cell_type": "code",
   "execution_count": 6,
   "metadata": {},
   "outputs": [],
   "source": [
    "X = np.random.randint(0, 100, (50, 2))"
   ]
  },
  {
   "cell_type": "code",
   "execution_count": 7,
   "metadata": {},
   "outputs": [
    {
     "data": {
      "text/plain": [
       "array([[87, 43],\n",
       "       [31, 95],\n",
       "       [29, 75],\n",
       "       [55, 30],\n",
       "       [38, 24],\n",
       "       [92, 27],\n",
       "       [96, 70],\n",
       "       [99, 39],\n",
       "       [70,  3],\n",
       "       [75, 34]])"
      ]
     },
     "execution_count": 7,
     "metadata": {},
     "output_type": "execute_result"
    }
   ],
   "source": [
    "X[: 10, :]"
   ]
  },
  {
   "cell_type": "code",
   "execution_count": 8,
   "metadata": {},
   "outputs": [],
   "source": [
    "X = np.array(X, dtype=float)"
   ]
  },
  {
   "cell_type": "code",
   "execution_count": 9,
   "metadata": {},
   "outputs": [
    {
     "data": {
      "text/plain": [
       "array([[87., 43.],\n",
       "       [31., 95.],\n",
       "       [29., 75.],\n",
       "       [55., 30.],\n",
       "       [38., 24.],\n",
       "       [92., 27.],\n",
       "       [96., 70.],\n",
       "       [99., 39.],\n",
       "       [70.,  3.],\n",
       "       [75., 34.]])"
      ]
     },
     "execution_count": 9,
     "metadata": {},
     "output_type": "execute_result"
    }
   ],
   "source": [
    "X[:10, :]"
   ]
  },
  {
   "cell_type": "code",
   "execution_count": 10,
   "metadata": {},
   "outputs": [],
   "source": [
    "for i in range(0, X.ndim):\n",
    "    # 将第i列数据归一化\n",
    "    X[:, i] = (X[:, i] - np.min(X[:, i])) / (np.max(X[:, i]) - np.min(X[:, i]))"
   ]
  },
  {
   "cell_type": "code",
   "execution_count": 11,
   "metadata": {},
   "outputs": [
    {
     "data": {
      "text/plain": [
       "array([[0.875     , 0.43010753],\n",
       "       [0.29166667, 0.98924731],\n",
       "       [0.27083333, 0.77419355],\n",
       "       [0.54166667, 0.29032258],\n",
       "       [0.36458333, 0.22580645],\n",
       "       [0.92708333, 0.25806452],\n",
       "       [0.96875   , 0.72043011],\n",
       "       [1.        , 0.38709677],\n",
       "       [0.69791667, 0.        ],\n",
       "       [0.75      , 0.33333333],\n",
       "       [0.55208333, 0.29032258],\n",
       "       [0.34375   , 0.08602151],\n",
       "       [0.21875   , 0.68817204],\n",
       "       [0.46875   , 0.84946237],\n",
       "       [0.27083333, 0.67741935],\n",
       "       [0.16666667, 0.6344086 ],\n",
       "       [0.04166667, 0.37634409],\n",
       "       [0.3125    , 0.10752688],\n",
       "       [0.90625   , 1.        ],\n",
       "       [0.75      , 0.83870968],\n",
       "       [0.92708333, 0.24731183],\n",
       "       [0.85416667, 0.58064516],\n",
       "       [0.77083333, 0.15053763],\n",
       "       [0.96875   , 0.05376344],\n",
       "       [0.        , 0.74193548],\n",
       "       [0.66666667, 0.33333333],\n",
       "       [0.73958333, 0.33333333],\n",
       "       [0.1875    , 0.92473118],\n",
       "       [0.23958333, 0.04301075],\n",
       "       [0.42708333, 0.5483871 ],\n",
       "       [1.        , 0.12903226],\n",
       "       [0.        , 0.32258065],\n",
       "       [0.84375   , 0.39784946],\n",
       "       [0.66666667, 0.16129032],\n",
       "       [0.1875    , 0.03225806],\n",
       "       [0.1875    , 0.17204301],\n",
       "       [0.6875    , 0.67741935],\n",
       "       [0.11458333, 0.92473118],\n",
       "       [0.0625    , 0.5483871 ],\n",
       "       [0.375     , 0.40860215],\n",
       "       [0.28125   , 0.76344086],\n",
       "       [0.48958333, 0.12903226],\n",
       "       [0.27083333, 0.46236559],\n",
       "       [0.96875   , 0.39784946],\n",
       "       [0.28125   , 0.1827957 ],\n",
       "       [0.27083333, 0.31182796],\n",
       "       [0.91666667, 0.22580645],\n",
       "       [0.94791667, 0.25806452],\n",
       "       [0.98958333, 0.4516129 ],\n",
       "       [0.58333333, 0.13978495]])"
      ]
     },
     "execution_count": 11,
     "metadata": {},
     "output_type": "execute_result"
    }
   ],
   "source": [
    "X"
   ]
  },
  {
   "cell_type": "code",
   "execution_count": 12,
   "metadata": {},
   "outputs": [
    {
     "data": {
      "image/png": "[encoded data removed]",
      "text/plain": [
       "<Figure size 432x288 with 1 Axes>"
      ]
     },
     "metadata": {
      "needs_background": "light"
     },
     "output_type": "display_data"
    }
   ],
   "source": [
    "plt.scatter(X[:, 0], X[:, 1])\n",
    "plt.show()"
   ]
  },
  {
   "cell_type": "code",
   "execution_count": 13,
   "metadata": {},
   "outputs": [
    {
     "data": {
      "text/plain": [
       "0.5325"
      ]
     },
     "execution_count": 13,
     "metadata": {},
     "output_type": "execute_result"
    }
   ],
   "source": [
    "np.mean(X[:, 0])"
   ]
  },
  {
   "cell_type": "code",
   "execution_count": 14,
   "metadata": {},
   "outputs": [
    {
     "data": {
      "text/plain": [
       "0.3187952037663748"
      ]
     },
     "execution_count": 14,
     "metadata": {},
     "output_type": "execute_result"
    }
   ],
   "source": [
    "np.std(X[:, 0])"
   ]
  },
  {
   "cell_type": "code",
   "execution_count": 15,
   "metadata": {},
   "outputs": [
    {
     "data": {
      "text/plain": [
       "0.42021505376344087"
      ]
     },
     "execution_count": 15,
     "metadata": {},
     "output_type": "execute_result"
    }
   ],
   "source": [
    "np.mean(X[:, 1])"
   ]
  },
  {
   "cell_type": "code",
   "execution_count": 16,
   "metadata": {},
   "outputs": [
    {
     "data": {
      "text/plain": [
       "0.2769675407243036"
      ]
     },
     "execution_count": 16,
     "metadata": {},
     "output_type": "execute_result"
    }
   ],
   "source": [
    "np.std(X[:, 1])"
   ]
  },
  {
   "cell_type": "markdown",
   "metadata": {},
   "source": [
    "# 均值方差归一化 Standardization"
   ]
  },
  {
   "cell_type": "code",
   "execution_count": 17,
   "metadata": {},
   "outputs": [],
   "source": [
    "X2 = np.random.randint(0, 100, (50,2))"
   ]
  },
  {
   "cell_type": "code",
   "execution_count": 18,
   "metadata": {},
   "outputs": [],
   "source": [
    "X2 = np.array(X2, dtype=float)"
   ]
  },
  {
   "cell_type": "code",
   "execution_count": 19,
   "metadata": {},
   "outputs": [],
   "source": [
    "for i in range(0, X2.ndim):\n",
    "    X2[:, i] = (X2[:, i] - np.mean(X2[:, i])) / (np.std(X2[:, i]))"
   ]
  },
  {
   "cell_type": "code",
   "execution_count": 20,
   "metadata": {},
   "outputs": [
    {
     "data": {
      "text/plain": [
       "array([[ 7.62219198e-01, -5.24344733e-01],\n",
       "       [-1.63561050e+00,  1.60178417e-01],\n",
       "       [ 1.16185748e+00,  8.10475409e-01],\n",
       "       [-4.73026404e-01,  1.05005851e+00],\n",
       "       [ 1.70681878e+00, -1.68803409e+00],\n",
       "       [ 6.89557692e-01, -1.34577251e+00],\n",
       "       [ 1.08919597e+00,  1.56345087e+00],\n",
       "       [-1.38129523e+00,  3.65535362e-01],\n",
       "       [-1.09718874e-01, -2.16309315e-01],\n",
       "       [-5.09357157e-01,  3.65535362e-01],\n",
       "       [ 4.35242421e-01,  1.63190319e+00],\n",
       "       [-1.12697996e+00, -1.47857000e-01],\n",
       "       [-7.26615060e-04,  1.25541546e+00],\n",
       "       [-8.36333934e-01,  1.25541546e+00],\n",
       "       [-2.91372639e-01, -1.03773710e+00],\n",
       "       [-1.46049627e-01, -1.17464173e+00],\n",
       "       [ 1.01653447e+00,  1.28964161e+00],\n",
       "       [ 5.80565433e-01,  1.59767703e+00],\n",
       "       [ 3.98911668e-01, -1.61958177e+00],\n",
       "       [-9.45326193e-01, -1.41422483e+00],\n",
       "       [ 9.43872963e-01,  1.49499856e+00],\n",
       "       [ 1.19818823e+00,  1.22118930e+00],\n",
       "       [ 1.67048802e+00,  1.01583235e+00],\n",
       "       [-9.45326193e-01,  5.02439992e-01],\n",
       "       [ 2.17257903e-01,  9.47380039e-01],\n",
       "       [ 2.53588656e-01,  5.02439992e-01],\n",
       "       [-1.82380380e-01,  8.10475409e-01],\n",
       "       [-5.09357157e-01, -1.68803409e+00],\n",
       "       [-6.18349416e-01,  5.02439992e-01],\n",
       "       [ 2.53588656e-01,  1.25952260e-01],\n",
       "       [ 1.67048802e+00,  7.76249252e-01],\n",
       "       [-1.45395673e+00,  5.36666149e-01],\n",
       "       [-1.23597222e+00,  4.33987677e-01],\n",
       "       [-4.73026404e-01, -1.24309404e+00],\n",
       "       [ 1.41617275e+00, -1.41422483e+00],\n",
       "       [ 1.80927150e-01, -4.51785279e-02],\n",
       "       [-1.38129523e+00, -6.27023205e-01],\n",
       "       [ 9.07542210e-01, -1.82083158e-01],\n",
       "       [ 6.89557692e-01,  9.17261021e-02],\n",
       "       [ 1.45250350e+00, -7.63927835e-01],\n",
       "       [-1.19964146e+00,  5.74999446e-02],\n",
       "       [ 6.53226939e-01, -1.20886788e+00],\n",
       "       [-1.74460276e+00,  2.28630732e-01],\n",
       "       [-7.63672428e-01, -8.66606308e-01],\n",
       "       [ 1.74314953e+00, -5.24344733e-01],\n",
       "       [ 5.07903927e-01, -1.61958177e+00],\n",
       "       [-1.34496448e+00,  1.60178417e-01],\n",
       "       [-1.82380380e-01,  6.73570779e-01],\n",
       "       [-1.05431845e+00, -1.10618941e+00],\n",
       "       [-1.05431845e+00, -9.69284780e-01]])"
      ]
     },
     "execution_count": 20,
     "metadata": {},
     "output_type": "execute_result"
    }
   ],
   "source": [
    "X2"
   ]
  },
  {
   "cell_type": "code",
   "execution_count": 21,
   "metadata": {},
   "outputs": [
    {
     "data": {
      "image/png": "[encoded data removed]",
      "text/plain": [
       "<Figure size 432x288 with 1 Axes>"
      ]
     },
     "metadata": {
      "needs_background": "light"
     },
     "output_type": "display_data"
    }
   ],
   "source": [
    "plt.scatter(X2[:, 0], X2[:, 1])\n",
    "plt.show()"
   ]
  },
  {
   "cell_type": "code",
   "execution_count": 22,
   "metadata": {},
   "outputs": [
    {
     "data": {
      "text/plain": [
       "-1.0658141036401502e-16"
      ]
     },
     "execution_count": 22,
     "metadata": {},
     "output_type": "execute_result"
    }
   ],
   "source": [
    "np.mean(X2[:, 0])"
   ]
  },
  {
   "cell_type": "code",
   "execution_count": 23,
   "metadata": {},
   "outputs": [
    {
     "data": {
      "text/plain": [
       "1.0"
      ]
     },
     "execution_count": 23,
     "metadata": {},
     "output_type": "execute_result"
    }
   ],
   "source": [
    "np.std(X2[:, 0])"
   ]
  },
  {
   "cell_type": "code",
   "execution_count": 24,
   "metadata": {},
   "outputs": [
    {
     "data": {
      "text/plain": [
       "-8.881784197001253e-18"
      ]
     },
     "execution_count": 24,
     "metadata": {},
     "output_type": "execute_result"
    }
   ],
   "source": [
    "np.mean(X2[:, 1])"
   ]
  },
  {
   "cell_type": "code",
   "execution_count": 25,
   "metadata": {},
   "outputs": [
    {
     "data": {
      "text/plain": [
       "1.0"
      ]
     },
     "execution_count": 25,
     "metadata": {},
     "output_type": "execute_result"
    }
   ],
   "source": [
    "np.std(X2[:, 1])"
   ]
  },
  {
   "cell_type": "markdown",
   "metadata": {},
   "source": [
    "# sklearn中的Scaler"
   ]
  },
  {
   "cell_type": "code",
   "execution_count": 26,
   "metadata": {},
   "outputs": [],
   "source": [
    "from sklearn import datasets"
   ]
  },
  {
   "cell_type": "code",
   "execution_count": 27,
   "metadata": {},
   "outputs": [],
   "source": [
    "iris = datasets.load_iris()"
   ]
  },
  {
   "cell_type": "code",
   "execution_count": 28,
   "metadata": {},
   "outputs": [],
   "source": [
    "X = iris.data\n",
    "y = iris.target"
   ]
  },
  {
   "cell_type": "code",
   "execution_count": 29,
   "metadata": {},
   "outputs": [
    {
     "data": {
      "text/plain": [
       "array([[5.1, 3.5, 1.4, 0.2],\n",
       "       [4.9, 3. , 1.4, 0.2],\n",
       "       [4.7, 3.2, 1.3, 0.2],\n",
       "       [4.6, 3.1, 1.5, 0.2],\n",
       "       [5. , 3.6, 1.4, 0.2],\n",
       "       [5.4, 3.9, 1.7, 0.4],\n",
       "       [4.6, 3.4, 1.4, 0.3],\n",
       "       [5. , 3.4, 1.5, 0.2],\n",
       "       [4.4, 2.9, 1.4, 0.2],\n",
       "       [4.9, 3.1, 1.5, 0.1]])"
      ]
     },
     "execution_count": 29,
     "metadata": {},
     "output_type": "execute_result"
    }
   ],
   "source": [
    "X[:10, :]"
   ]
  },
  {
   "cell_type": "code",
   "execution_count": 30,
   "metadata": {},
   "outputs": [],
   "source": [
    "from sklearn.model_selection import train_test_split\n",
    "\n",
    "X_train, X_test, y_train, y_test = train_test_split(X, y, test_size=0.2, random_state=666)"
   ]
  },
  {
   "cell_type": "markdown",
   "metadata": {},
   "source": [
    "# sklearn中的StandardScaler"
   ]
  },
  {
   "cell_type": "code",
   "execution_count": 31,
   "metadata": {},
   "outputs": [],
   "source": [
    "from sklearn.preprocessing import StandardScaler"
   ]
  },
  {
   "cell_type": "code",
   "execution_count": 32,
   "metadata": {},
   "outputs": [],
   "source": [
    "standardScaler = StandardScaler()"
   ]
  },
  {
   "cell_type": "code",
   "execution_count": 33,
   "metadata": {},
   "outputs": [
    {
     "data": {
      "text/plain": [
       "StandardScaler(copy=True, with_mean=True, with_std=True)"
      ]
     },
     "execution_count": 33,
     "metadata": {},
     "output_type": "execute_result"
    }
   ],
   "source": [
    "standardScaler.fit(X_train)"
   ]
  },
  {
   "cell_type": "code",
   "execution_count": 34,
   "metadata": {},
   "outputs": [
    {
     "data": {
      "text/plain": [
       "array([5.83416667, 3.08666667, 3.70833333, 1.17      ])"
      ]
     },
     "execution_count": 34,
     "metadata": {},
     "output_type": "execute_result"
    }
   ],
   "source": [
    "standardScaler.mean_"
   ]
  },
  {
   "cell_type": "code",
   "execution_count": 35,
   "metadata": {},
   "outputs": [
    {
     "data": {
      "text/plain": [
       "array([0.81019502, 0.44327067, 1.76401924, 0.75317107])"
      ]
     },
     "execution_count": 35,
     "metadata": {},
     "output_type": "execute_result"
    }
   ],
   "source": [
    "standardScaler.scale_ # 方差"
   ]
  },
  {
   "cell_type": "code",
   "execution_count": 36,
   "metadata": {},
   "outputs": [],
   "source": [
    "X_train = standardScaler.transform(X_train)"
   ]
  },
  {
   "cell_type": "code",
   "execution_count": 37,
   "metadata": {},
   "outputs": [
    {
     "data": {
      "text/plain": [
       "array([[-0.90616043,  0.93246262, -1.30856471, -1.28788802],\n",
       "       [-1.15301457, -0.19551636, -1.30856471, -1.28788802],\n",
       "       [-0.16559799, -0.64670795,  0.22203084,  0.17260355],\n",
       "       [ 0.45153738,  0.70686683,  0.95898425,  1.50032315],\n",
       "       [-0.90616043, -1.32349533, -0.40154513, -0.09294037],\n",
       "       [ 1.43895396,  0.25567524,  0.56216318,  0.30537551],\n",
       "       [ 0.3281103 , -1.09789954,  1.0723617 ,  0.30537551],\n",
       "       [ 2.1795164 , -0.19551636,  1.63924894,  1.23477923],\n",
       "       [-0.78273335,  2.2860374 , -1.25187599, -1.42065998],\n",
       "       [ 0.45153738, -2.00028272,  0.44878573,  0.43814747],\n",
       "       [ 1.80923518, -0.42111215,  1.46918276,  0.83646335],\n",
       "       [ 0.69839152,  0.25567524,  0.90229552,  1.50032315],\n",
       "       [ 0.20468323,  0.70686683,  0.44878573,  0.57091943],\n",
       "       [-0.78273335, -0.87230374,  0.10865339,  0.30537551],\n",
       "       [-0.53587921,  1.38365421, -1.25187599, -1.28788802],\n",
       "       [-0.65930628,  1.38365421, -1.25187599, -1.28788802],\n",
       "       [-1.0295875 ,  0.93246262, -1.19518726, -0.75680017],\n",
       "       [-1.77014994, -0.42111215, -1.30856471, -1.28788802],\n",
       "       [-0.04217092, -0.87230374,  0.10865339,  0.03983159],\n",
       "       [-0.78273335,  0.70686683, -1.30856471, -1.28788802],\n",
       "       [-1.52329579,  0.70686683, -1.30856471, -1.15511606],\n",
       "       [ 0.82181859,  0.25567524,  0.78891808,  1.10200727],\n",
       "       [-0.16559799, -0.42111215,  0.27871956,  0.17260355],\n",
       "       [ 0.94524567, -0.19551636,  0.39209701,  0.30537551],\n",
       "       [ 0.20468323, -0.42111215,  0.44878573,  0.43814747],\n",
       "       [-1.39986872,  0.25567524, -1.19518726, -1.28788802],\n",
       "       [-1.15301457,  1.15805842, -1.30856471, -1.42065998],\n",
       "       [ 1.06867274,  0.03007944,  1.0723617 ,  1.63309511],\n",
       "       [ 0.57496445, -0.87230374,  0.67554063,  0.83646335],\n",
       "       [ 0.3281103 , -0.64670795,  0.56216318,  0.03983159],\n",
       "       [ 0.45153738, -0.64670795,  0.6188519 ,  0.83646335],\n",
       "       [-0.16559799,  2.96282478, -1.25187599, -1.0223441 ],\n",
       "       [ 0.57496445, -1.32349533,  0.67554063,  0.43814747],\n",
       "       [ 0.69839152, -0.42111215,  0.33540828,  0.17260355],\n",
       "       [-0.90616043,  1.60925001, -1.02512109, -1.0223441 ],\n",
       "       [ 1.19209981, -0.64670795,  0.6188519 ,  0.30537551],\n",
       "       [-0.90616043,  0.93246262, -1.30856471, -1.15511606],\n",
       "       [-1.89357701, -0.19551636, -1.47863088, -1.42065998],\n",
       "       [ 0.08125616, -0.19551636,  0.78891808,  0.83646335],\n",
       "       [ 0.69839152, -0.64670795,  1.0723617 ,  1.23477923],\n",
       "       [-0.28902506, -0.64670795,  0.67554063,  1.10200727],\n",
       "       [-0.41245214, -1.54909113, -0.00472406, -0.22571233],\n",
       "       [ 1.31552689,  0.03007944,  0.67554063,  0.43814747],\n",
       "       [ 0.57496445,  0.70686683,  1.0723617 ,  1.63309511],\n",
       "       [ 0.82181859, -0.19551636,  1.18573914,  1.36755119],\n",
       "       [-0.16559799,  1.60925001, -1.13849854, -1.15511606],\n",
       "       [ 0.94524567, -0.42111215,  0.50547446,  0.17260355],\n",
       "       [ 1.06867274,  0.48127103,  1.12905042,  1.76586707],\n",
       "       [-1.27644165, -0.19551636, -1.30856471, -1.42065998],\n",
       "       [-1.0295875 ,  1.15805842, -1.30856471, -1.28788802],\n",
       "       [ 0.20468323, -0.19551636,  0.6188519 ,  0.83646335],\n",
       "       [-1.0295875 , -0.19551636, -1.19518726, -1.28788802],\n",
       "       [ 0.3281103 , -0.19551636,  0.67554063,  0.83646335],\n",
       "       [ 0.69839152,  0.03007944,  1.01567297,  0.83646335],\n",
       "       [-0.90616043,  1.38365421, -1.25187599, -1.0223441 ],\n",
       "       [-0.16559799, -0.19551636,  0.27871956,  0.03983159],\n",
       "       [-1.0295875 ,  0.93246262, -1.36525344, -1.15511606],\n",
       "       [-0.90616043,  1.60925001, -1.25187599, -1.15511606],\n",
       "       [-1.52329579,  0.25567524, -1.30856471, -1.28788802],\n",
       "       [-0.53587921, -0.19551636,  0.44878573,  0.43814747],\n",
       "       [ 0.82181859, -0.64670795,  0.50547446,  0.43814747],\n",
       "       [ 0.3281103 , -0.64670795,  0.16534211,  0.17260355],\n",
       "       [-1.27644165,  0.70686683, -1.19518726, -1.28788802],\n",
       "       [-0.90616043,  0.48127103, -1.13849854, -0.88957213],\n",
       "       [-0.04217092, -0.87230374,  0.78891808,  0.96923531],\n",
       "       [-0.28902506, -0.19551636,  0.22203084,  0.17260355],\n",
       "       [ 0.57496445, -0.64670795,  0.78891808,  0.43814747],\n",
       "       [ 1.06867274,  0.48127103,  1.12905042,  1.23477923],\n",
       "       [ 1.68580811, -0.19551636,  1.18573914,  0.57091943],\n",
       "       [ 1.06867274, -0.19551636,  0.8456068 ,  1.50032315],\n",
       "       [-1.15301457,  0.03007944, -1.25187599, -1.42065998],\n",
       "       [-1.15301457, -1.32349533,  0.44878573,  0.70369139],\n",
       "       [-0.16559799, -1.32349533,  0.73222935,  1.10200727],\n",
       "       [-1.15301457, -1.54909113, -0.23147896, -0.22571233],\n",
       "       [-0.41245214, -1.54909113,  0.05196466, -0.09294037],\n",
       "       [ 1.06867274, -1.32349533,  1.18573914,  0.83646335],\n",
       "       [ 0.82181859, -0.19551636,  1.01567297,  0.83646335],\n",
       "       [-0.16559799, -1.09789954, -0.11810151, -0.22571233],\n",
       "       [ 0.20468323, -2.00028272,  0.73222935,  0.43814747],\n",
       "       [ 1.06867274,  0.03007944,  0.56216318,  0.43814747],\n",
       "       [-1.15301457,  0.03007944, -1.25187599, -1.28788802],\n",
       "       [ 0.57496445, -1.32349533,  0.73222935,  0.96923531],\n",
       "       [-1.39986872,  0.25567524, -1.36525344, -1.28788802],\n",
       "       [ 0.20468323, -0.87230374,  0.78891808,  0.57091943],\n",
       "       [-0.04217092, -1.09789954,  0.16534211,  0.03983159],\n",
       "       [ 1.31552689,  0.25567524,  1.12905042,  1.50032315],\n",
       "       [-1.77014994, -0.19551636, -1.36525344, -1.28788802],\n",
       "       [ 1.56238103, -0.19551636,  1.24242787,  1.23477923],\n",
       "       [ 1.19209981,  0.25567524,  1.24242787,  1.50032315],\n",
       "       [-0.78273335,  0.93246262, -1.25187599, -1.28788802],\n",
       "       [ 2.54979762,  1.60925001,  1.52587149,  1.10200727],\n",
       "       [ 0.69839152, -0.64670795,  1.0723617 ,  1.36755119],\n",
       "       [-0.28902506, -0.42111215, -0.06141278,  0.17260355],\n",
       "       [-0.41245214,  2.51163319, -1.30856471, -1.28788802],\n",
       "       [-1.27644165, -0.19551636, -1.30856471, -1.15511606],\n",
       "       [ 0.57496445, -0.42111215,  1.0723617 ,  0.83646335],\n",
       "       [-1.77014994,  0.25567524, -1.36525344, -1.28788802],\n",
       "       [-0.53587921,  1.8348458 , -1.13849854, -1.0223441 ],\n",
       "       [-1.0295875 ,  0.70686683, -1.19518726, -1.0223441 ],\n",
       "       [ 1.06867274, -0.19551636,  0.73222935,  0.70369139],\n",
       "       [-0.53587921,  1.8348458 , -1.36525344, -1.0223441 ],\n",
       "       [ 2.30294347, -0.64670795,  1.69593766,  1.10200727],\n",
       "       [-0.28902506, -0.87230374,  0.27871956,  0.17260355],\n",
       "       [ 1.19209981, -0.19551636,  1.01567297,  1.23477923],\n",
       "       [-0.41245214,  0.93246262, -1.36525344, -1.28788802],\n",
       "       [-1.27644165,  0.70686683, -1.02512109, -1.28788802],\n",
       "       [-0.53587921,  0.70686683, -1.13849854, -1.28788802],\n",
       "       [ 2.30294347,  1.60925001,  1.69593766,  1.36755119],\n",
       "       [ 1.31552689,  0.03007944,  0.95898425,  1.23477923],\n",
       "       [-0.28902506, -1.32349533,  0.10865339, -0.09294037],\n",
       "       [-0.90616043,  0.70686683, -1.25187599, -1.28788802],\n",
       "       [-0.90616043,  1.60925001, -1.19518726, -1.28788802],\n",
       "       [ 0.3281103 , -0.42111215,  0.56216318,  0.30537551],\n",
       "       [-0.04217092,  2.0604416 , -1.42194216, -1.28788802],\n",
       "       [-1.0295875 , -2.45147431, -0.11810151, -0.22571233],\n",
       "       [ 0.69839152,  0.25567524,  0.44878573,  0.43814747],\n",
       "       [ 0.3281103 , -0.19551636,  0.50547446,  0.30537551],\n",
       "       [ 0.08125616,  0.25567524,  0.6188519 ,  0.83646335],\n",
       "       [ 0.20468323, -2.00028272,  0.16534211, -0.22571233],\n",
       "       [ 1.93266225, -0.64670795,  1.35580532,  0.96923531]])"
      ]
     },
     "execution_count": 37,
     "metadata": {},
     "output_type": "execute_result"
    }
   ],
   "source": [
    "X_train"
   ]
  },
  {
   "cell_type": "code",
   "execution_count": 38,
   "metadata": {},
   "outputs": [],
   "source": [
    "X_test_standard = standardScaler.transform(X_test)"
   ]
  },
  {
   "cell_type": "code",
   "execution_count": 39,
   "metadata": {},
   "outputs": [
    {
     "data": {
      "text/plain": [
       "array([[-0.28902506, -0.19551636,  0.44878573,  0.43814747],\n",
       "       [-0.04217092, -0.64670795,  0.78891808,  1.63309511],\n",
       "       [-1.0295875 , -1.77468693, -0.23147896, -0.22571233],\n",
       "       [-0.04217092, -0.87230374,  0.78891808,  0.96923531],\n",
       "       [-1.52329579,  0.03007944, -1.25187599, -1.28788802],\n",
       "       [-0.41245214, -1.32349533,  0.16534211,  0.17260355],\n",
       "       [-0.16559799, -0.64670795,  0.44878573,  0.17260355],\n",
       "       [ 0.82181859, -0.19551636,  0.8456068 ,  1.10200727],\n",
       "       [ 0.57496445, -1.77468693,  0.39209701,  0.17260355],\n",
       "       [-0.41245214, -1.09789954,  0.39209701,  0.03983159],\n",
       "       [ 1.06867274,  0.03007944,  0.39209701,  0.30537551],\n",
       "       [-1.64672287, -1.77468693, -1.36525344, -1.15511606],\n",
       "       [-1.27644165,  0.03007944, -1.19518726, -1.28788802],\n",
       "       [-0.53587921,  0.70686683, -1.25187599, -1.0223441 ],\n",
       "       [ 1.68580811,  1.15805842,  1.35580532,  1.76586707],\n",
       "       [-0.04217092, -0.87230374,  0.22203084, -0.22571233],\n",
       "       [-1.52329579,  1.15805842, -1.53531961, -1.28788802],\n",
       "       [ 1.68580811,  0.25567524,  1.29911659,  0.83646335],\n",
       "       [ 1.31552689,  0.03007944,  0.78891808,  1.50032315],\n",
       "       [ 0.69839152, -0.87230374,  0.90229552,  0.96923531],\n",
       "       [ 0.57496445,  0.48127103,  0.56216318,  0.57091943],\n",
       "       [-1.0295875 ,  0.70686683, -1.25187599, -1.28788802],\n",
       "       [ 2.30294347, -1.09789954,  1.80931511,  1.50032315],\n",
       "       [-1.0295875 ,  0.48127103, -1.30856471, -1.28788802],\n",
       "       [ 0.45153738, -0.42111215,  0.33540828,  0.17260355],\n",
       "       [ 0.08125616, -0.19551636,  0.27871956,  0.43814747],\n",
       "       [-1.0295875 ,  0.25567524, -1.42194216, -1.28788802],\n",
       "       [-0.41245214, -1.77468693,  0.16534211,  0.17260355],\n",
       "       [ 0.57496445,  0.48127103,  1.29911659,  1.76586707],\n",
       "       [ 2.30294347, -0.19551636,  1.35580532,  1.50032315]])"
      ]
     },
     "execution_count": 39,
     "metadata": {},
     "output_type": "execute_result"
    }
   ],
   "source": [
    "X_test_standard"
   ]
  },
  {
   "cell_type": "code",
   "execution_count": 40,
   "metadata": {},
   "outputs": [],
   "source": [
    "from sklearn.neighbors import KNeighborsClassifier"
   ]
  },
  {
   "cell_type": "code",
   "execution_count": 41,
   "metadata": {},
   "outputs": [],
   "source": [
    "knn_clf = KNeighborsClassifier(n_neighbors=3)"
   ]
  },
  {
   "cell_type": "code",
   "execution_count": 42,
   "metadata": {},
   "outputs": [
    {
     "data": {
      "text/plain": [
       "KNeighborsClassifier(algorithm='auto', leaf_size=30, metric='minkowski',\n",
       "           metric_params=None, n_jobs=None, n_neighbors=3, p=2,\n",
       "           weights='uniform')"
      ]
     },
     "execution_count": 42,
     "metadata": {},
     "output_type": "execute_result"
    }
   ],
   "source": [
    "knn_clf.fit(X_train, y_train)"
   ]
  },
  {
   "cell_type": "code",
   "execution_count": 43,
   "metadata": {},
   "outputs": [
    {
     "data": {
      "text/plain": [
       "1.0"
      ]
     },
     "execution_count": 43,
     "metadata": {},
     "output_type": "execute_result"
    }
   ],
   "source": [
    "knn_clf.score(X_test_standard, y_test)"
   ]
  },
  {
   "cell_type": "code",
   "execution_count": null,
   "metadata": {},
   "outputs": [],
   "source": []
  },
  {
   "cell_type": "code",
   "execution_count": null,
   "metadata": {},
   "outputs": [],
   "source": []
  }
 ],
 "metadata": {
  "kernelspec": {
   "display_name": "Python 3",
   "language": "python",
   "name": "python3"
  },
  "language_info": {
   "codemirror_mode": {
    "name": "ipython",
    "version": 3
   },
   "file_extension": ".py",
   "mimetype": "text/x-python",
   "name": "python",
   "nbconvert_exporter": "python",
   "pygments_lexer": "ipython3",
   "version": "3.6.5"
  }
 },
 "nbformat": 4,
 "nbformat_minor": 2
}
